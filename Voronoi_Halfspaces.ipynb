{
  "nbformat": 4,
  "nbformat_minor": 0,
  "metadata": {
    "colab": {
      "provenance": [],
      "authorship_tag": "ABX9TyMHRiWpJJ1NE8WO+9sddpt+"
    },
    "kernelspec": {
      "name": "python3",
      "display_name": "Python 3"
    },
    "language_info": {
      "name": "python"
    }
  },
  "cells": [
    {
      "cell_type": "code",
      "execution_count": 1,
      "metadata": {
        "colab": {
          "base_uri": "https://localhost:8080/"
        },
        "id": "rj0IbaJuRxVQ",
        "outputId": "01b3670a-dd7f-44d1-be1d-272599b91eb9"
      },
      "outputs": [
        {
          "output_type": "stream",
          "name": "stdout",
          "text": [
            "           Description      Result\n",
            "0              Point a      [1, 2]\n",
            "1              Point b      [3, 4]\n",
            "2      Normal vector c      [4, 4]\n",
            "3          Threshold d          20\n",
            "4  Half-space equation  c^T x ≤ 20\n"
          ]
        }
      ],
      "source": [
        "# Import necessary libraries\n",
        "import numpy as np\n",
        "import pandas as pd\n",
        "\n",
        "# Function to compute the normal vector and threshold for the half-space\n",
        "def compute_halfspace(a, b):\n",
        "    # Compute the normal vector\n",
        "    c = 2 * (b - a)\n",
        "\n",
        "    # Compute the threshold value\n",
        "    d = np.dot(b, b) - np.dot(a, a)\n",
        "\n",
        "    return c, d\n",
        "\n",
        "# Define two points a and b in R^n\n",
        "a = np.array([1, 2])\n",
        "b = np.array([3, 4])\n",
        "\n",
        "# Compute the half-space representation\n",
        "c, d = compute_halfspace(a, b)\n",
        "\n",
        "# Create a DataFrame to display results\n",
        "results = pd.DataFrame({\n",
        "    \"Description\": [\"Point a\", \"Point b\", \"Normal vector c\", \"Threshold d\", \"Half-space equation\"],\n",
        "    \"Result\": [a, b, c, d, f\"c^T x ≤ {d}\"]\n",
        "})\n",
        "\n",
        "# Display the results\n",
        "print(results)"
      ]
    }
  ]
}